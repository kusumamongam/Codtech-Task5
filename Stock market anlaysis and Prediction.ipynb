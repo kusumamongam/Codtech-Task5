{
 "cells": [
  {
   "cell_type": "markdown",
   "metadata": {},
   "source": [
    "Stock Market Analysis and Predictions"
   ]
  },
  {
   "cell_type": "markdown",
   "metadata": {},
   "source": [
    "The stock market is a complex and dynamic system that is influenced by a wide range of factors, including economic indicators, company performance, and investor sentiment. Analyzing historical stock market data can help investors identify trends, patterns, and correlations that can inform investment decisions.\n",
    "\n",
    "The ARIMA model is a popular statistical model for time series forecasting that takes into account autoregressive (AR), differencing (I), and moving average (MA) components. The LSTM model, on the other hand, is a type of neural network that is well-suited for time series data due to its ability to learn long-term dependencies.\n",
    "\n"
   ]
  },
  {
   "cell_type": "markdown",
   "metadata": {},
   "source": [
    "Importing necessary libraries"
   ]
  },
  {
   "cell_type": "code",
   "execution_count": 21,
   "metadata": {},
   "outputs": [],
   "source": [
    "import numpy as np\n",
    "import pandas as pd\n",
    "import matplotlib.pyplot as plt"
   ]
  },
  {
   "cell_type": "code",
   "execution_count": 3,
   "metadata": {},
   "outputs": [
    {
     "name": "stdout",
     "output_type": "stream",
     "text": [
      "Collecting statsmodels\n",
      "  Downloading statsmodels-0.14.2-cp311-cp311-win_amd64.whl (9.9 MB)\n",
      "     ---------------------------------------- 0.0/9.9 MB ? eta -:--:--\n",
      "     ---------------------------------------- 0.0/9.9 MB ? eta -:--:--\n",
      "     ---------------------------------------- 0.0/9.9 MB 393.8 kB/s eta 0:00:25\n",
      "     ---------------------------------------- 0.1/9.9 MB 573.4 kB/s eta 0:00:18\n",
      "      --------------------------------------- 0.2/9.9 MB 919.0 kB/s eta 0:00:11\n",
      "     - -------------------------------------- 0.3/9.9 MB 1.4 MB/s eta 0:00:07\n",
      "     - -------------------------------------- 0.4/9.9 MB 1.6 MB/s eta 0:00:06\n",
      "     -- ------------------------------------- 0.5/9.9 MB 1.7 MB/s eta 0:00:06\n",
      "     -- ------------------------------------- 0.6/9.9 MB 1.8 MB/s eta 0:00:06\n",
      "     -- ------------------------------------- 0.7/9.9 MB 1.9 MB/s eta 0:00:05\n",
      "     --- ------------------------------------ 0.8/9.9 MB 1.9 MB/s eta 0:00:05\n",
      "     --- ------------------------------------ 0.9/9.9 MB 1.9 MB/s eta 0:00:05\n",
      "     --- ------------------------------------ 1.0/9.9 MB 1.9 MB/s eta 0:00:05\n",
      "     ---- ----------------------------------- 1.1/9.9 MB 2.0 MB/s eta 0:00:05\n",
      "     ---- ----------------------------------- 1.2/9.9 MB 2.0 MB/s eta 0:00:05\n",
      "     ----- ---------------------------------- 1.2/9.9 MB 1.9 MB/s eta 0:00:05\n",
      "     ----- ---------------------------------- 1.3/9.9 MB 2.0 MB/s eta 0:00:05\n",
      "     ----- ---------------------------------- 1.4/9.9 MB 2.0 MB/s eta 0:00:05\n",
      "     ------ --------------------------------- 1.6/9.9 MB 2.0 MB/s eta 0:00:05\n",
      "     ------ --------------------------------- 1.7/9.9 MB 2.0 MB/s eta 0:00:05\n",
      "     ------ --------------------------------- 1.7/9.9 MB 2.0 MB/s eta 0:00:05\n",
      "     ------- -------------------------------- 1.8/9.9 MB 1.9 MB/s eta 0:00:05\n",
      "     ------- -------------------------------- 1.9/9.9 MB 2.0 MB/s eta 0:00:05\n",
      "     -------- ------------------------------- 2.0/9.9 MB 2.0 MB/s eta 0:00:04\n",
      "     -------- ------------------------------- 2.1/9.9 MB 2.0 MB/s eta 0:00:04\n",
      "     --------- ------------------------------ 2.2/9.9 MB 2.0 MB/s eta 0:00:04\n",
      "     --------- ------------------------------ 2.4/9.9 MB 2.0 MB/s eta 0:00:04\n",
      "     --------- ------------------------------ 2.4/9.9 MB 2.1 MB/s eta 0:00:04\n",
      "     ---------- ----------------------------- 2.6/9.9 MB 2.1 MB/s eta 0:00:04\n",
      "     ----------- ---------------------------- 2.7/9.9 MB 2.1 MB/s eta 0:00:04\n",
      "     ----------- ---------------------------- 2.8/9.9 MB 2.1 MB/s eta 0:00:04\n",
      "     ----------- ---------------------------- 2.9/9.9 MB 2.1 MB/s eta 0:00:04\n",
      "     ------------ --------------------------- 3.0/9.9 MB 2.1 MB/s eta 0:00:04\n",
      "     ------------ --------------------------- 3.1/9.9 MB 2.1 MB/s eta 0:00:04\n",
      "     ------------- -------------------------- 3.2/9.9 MB 2.1 MB/s eta 0:00:04\n",
      "     ------------- -------------------------- 3.4/9.9 MB 2.1 MB/s eta 0:00:04\n",
      "     -------------- ------------------------- 3.5/9.9 MB 2.2 MB/s eta 0:00:03\n",
      "     -------------- ------------------------- 3.6/9.9 MB 2.2 MB/s eta 0:00:03\n",
      "     --------------- ------------------------ 3.8/9.9 MB 2.2 MB/s eta 0:00:03\n",
      "     --------------- ------------------------ 3.9/9.9 MB 2.2 MB/s eta 0:00:03\n",
      "     ---------------- ----------------------- 4.0/9.9 MB 2.2 MB/s eta 0:00:03\n",
      "     ---------------- ----------------------- 4.2/9.9 MB 2.3 MB/s eta 0:00:03\n",
      "     ----------------- ---------------------- 4.3/9.9 MB 2.3 MB/s eta 0:00:03\n",
      "     ----------------- ---------------------- 4.4/9.9 MB 2.3 MB/s eta 0:00:03\n",
      "     ------------------ --------------------- 4.5/9.9 MB 2.3 MB/s eta 0:00:03\n",
      "     ------------------ --------------------- 4.7/9.9 MB 2.3 MB/s eta 0:00:03\n",
      "     ------------------- -------------------- 4.8/9.9 MB 2.3 MB/s eta 0:00:03\n",
      "     ------------------- -------------------- 4.9/9.9 MB 2.4 MB/s eta 0:00:03\n",
      "     -------------------- ------------------- 5.0/9.9 MB 2.4 MB/s eta 0:00:03\n",
      "     -------------------- ------------------- 5.1/9.9 MB 2.4 MB/s eta 0:00:03\n",
      "     --------------------- ------------------ 5.2/9.9 MB 2.4 MB/s eta 0:00:02\n",
      "     --------------------- ------------------ 5.4/9.9 MB 2.4 MB/s eta 0:00:02\n",
      "     ---------------------- ----------------- 5.5/9.9 MB 2.4 MB/s eta 0:00:02\n",
      "     ---------------------- ----------------- 5.6/9.9 MB 2.4 MB/s eta 0:00:02\n",
      "     ----------------------- ---------------- 5.7/9.9 MB 2.4 MB/s eta 0:00:02\n",
      "     ----------------------- ---------------- 5.9/9.9 MB 2.4 MB/s eta 0:00:02\n",
      "     ------------------------ --------------- 6.0/9.9 MB 2.4 MB/s eta 0:00:02\n",
      "     ------------------------ --------------- 6.1/9.9 MB 2.4 MB/s eta 0:00:02\n",
      "     ------------------------- -------------- 6.2/9.9 MB 2.4 MB/s eta 0:00:02\n",
      "     ------------------------- -------------- 6.3/9.9 MB 2.4 MB/s eta 0:00:02\n",
      "     -------------------------- ------------- 6.5/9.9 MB 2.4 MB/s eta 0:00:02\n",
      "     -------------------------- ------------- 6.6/9.9 MB 2.5 MB/s eta 0:00:02\n",
      "     ---------------------------- ----------- 6.9/9.9 MB 2.5 MB/s eta 0:00:02\n",
      "     ---------------------------- ----------- 7.1/9.9 MB 2.6 MB/s eta 0:00:02\n",
      "     ------------------------------ --------- 7.4/9.9 MB 2.6 MB/s eta 0:00:01\n",
      "     ------------------------------ --------- 7.6/9.9 MB 2.7 MB/s eta 0:00:01\n",
      "     ------------------------------- -------- 7.9/9.9 MB 2.7 MB/s eta 0:00:01\n",
      "     --------------------------------- ------ 8.1/9.9 MB 2.8 MB/s eta 0:00:01\n",
      "     --------------------------------- ------ 8.3/9.9 MB 2.8 MB/s eta 0:00:01\n",
      "     ---------------------------------- ----- 8.6/9.9 MB 2.8 MB/s eta 0:00:01\n",
      "     ----------------------------------- ---- 8.7/9.9 MB 2.8 MB/s eta 0:00:01\n",
      "     ------------------------------------ --- 9.0/9.9 MB 2.9 MB/s eta 0:00:01\n",
      "     ------------------------------------- -- 9.2/9.9 MB 2.9 MB/s eta 0:00:01\n",
      "     ------------------------------------- -- 9.2/9.9 MB 2.9 MB/s eta 0:00:01\n",
      "     ------------------------------------- -- 9.2/9.9 MB 2.9 MB/s eta 0:00:01\n",
      "     ------------------------------------- -- 9.2/9.9 MB 2.9 MB/s eta 0:00:01\n",
      "     ---------------------------------------  9.6/9.9 MB 2.9 MB/s eta 0:00:01\n",
      "     ---------------------------------------  9.8/9.9 MB 2.9 MB/s eta 0:00:01\n",
      "     ---------------------------------------  9.9/9.9 MB 2.9 MB/s eta 0:00:01\n",
      "     ---------------------------------------- 9.9/9.9 MB 2.9 MB/s eta 0:00:00\n",
      "Requirement already satisfied: numpy>=1.22.3 in c:\\users\\dell\\appdata\\local\\programs\\python\\python311\\lib\\site-packages (from statsmodels) (1.24.2)\n",
      "Requirement already satisfied: scipy!=1.9.2,>=1.8 in c:\\users\\dell\\appdata\\local\\programs\\python\\python311\\lib\\site-packages (from statsmodels) (1.10.1)\n",
      "Requirement already satisfied: pandas!=2.1.0,>=1.4 in c:\\users\\dell\\appdata\\local\\programs\\python\\python311\\lib\\site-packages (from statsmodels) (2.0.0)\n",
      "Collecting patsy>=0.5.6\n",
      "  Downloading patsy-0.5.6-py2.py3-none-any.whl (233 kB)\n",
      "     ---------------------------------------- 0.0/233.9 kB ? eta -:--:--\n",
      "     -------------------------------------- 233.9/233.9 kB 4.8 MB/s eta 0:00:00\n",
      "Requirement already satisfied: packaging>=21.3 in c:\\users\\dell\\appdata\\local\\programs\\python\\python311\\lib\\site-packages (from statsmodels) (23.0)\n",
      "Requirement already satisfied: python-dateutil>=2.8.2 in c:\\users\\dell\\appdata\\local\\programs\\python\\python311\\lib\\site-packages (from pandas!=2.1.0,>=1.4->statsmodels) (2.8.2)\n",
      "Requirement already satisfied: pytz>=2020.1 in c:\\users\\dell\\appdata\\local\\programs\\python\\python311\\lib\\site-packages (from pandas!=2.1.0,>=1.4->statsmodels) (2023.3)\n",
      "Requirement already satisfied: tzdata>=2022.1 in c:\\users\\dell\\appdata\\local\\programs\\python\\python311\\lib\\site-packages (from pandas!=2.1.0,>=1.4->statsmodels) (2023.3)\n",
      "Requirement already satisfied: six in c:\\users\\dell\\appdata\\local\\programs\\python\\python311\\lib\\site-packages (from patsy>=0.5.6->statsmodels) (1.16.0)\n",
      "Installing collected packages: patsy, statsmodels\n",
      "Successfully installed patsy-0.5.6 statsmodels-0.14.2\n"
     ]
    },
    {
     "name": "stderr",
     "output_type": "stream",
     "text": [
      "\n",
      "[notice] A new release of pip is available: 23.0.1 -> 24.0\n",
      "[notice] To update, run: python.exe -m pip install --upgrade pip\n"
     ]
    }
   ],
   "source": [
    "!pip install statsmodels"
   ]
  },
  {
   "cell_type": "code",
   "execution_count": 22,
   "metadata": {},
   "outputs": [
    {
     "name": "stdout",
     "output_type": "stream",
     "text": [
      "0.14.2\n"
     ]
    }
   ],
   "source": [
    "import statsmodels\n",
    "print(statsmodels.__version__)"
   ]
  },
  {
   "cell_type": "code",
   "execution_count": 23,
   "metadata": {},
   "outputs": [],
   "source": [
    "from statsmodels.tsa.arima_model import ARIMA"
   ]
  },
  {
   "cell_type": "markdown",
   "metadata": {},
   "source": [
    "Reading the file (data)"
   ]
  },
  {
   "cell_type": "code",
   "execution_count": 24,
   "metadata": {},
   "outputs": [],
   "source": [
    "data = pd.read_csv(\"C:/Users/Dell/OneDrive/Desktop/codtech internship/tesla stocks data.csv\")"
   ]
  },
  {
   "cell_type": "markdown",
   "metadata": {},
   "source": [
    "Creating a dataframe"
   ]
  },
  {
   "cell_type": "code",
   "execution_count": 25,
   "metadata": {},
   "outputs": [],
   "source": [
    "df = pd.DataFrame(data)"
   ]
  },
  {
   "cell_type": "code",
   "execution_count": 26,
   "metadata": {},
   "outputs": [
    {
     "data": {
      "text/html": [
       "<div>\n",
       "<style scoped>\n",
       "    .dataframe tbody tr th:only-of-type {\n",
       "        vertical-align: middle;\n",
       "    }\n",
       "\n",
       "    .dataframe tbody tr th {\n",
       "        vertical-align: top;\n",
       "    }\n",
       "\n",
       "    .dataframe thead th {\n",
       "        text-align: right;\n",
       "    }\n",
       "</style>\n",
       "<table border=\"1\" class=\"dataframe\">\n",
       "  <thead>\n",
       "    <tr style=\"text-align: right;\">\n",
       "      <th></th>\n",
       "      <th>Date</th>\n",
       "      <th>Year</th>\n",
       "      <th>Open</th>\n",
       "      <th>High</th>\n",
       "      <th>Low</th>\n",
       "      <th>Close</th>\n",
       "      <th>Volume</th>\n",
       "      <th>Adj Close</th>\n",
       "    </tr>\n",
       "  </thead>\n",
       "  <tbody>\n",
       "    <tr>\n",
       "      <th>0</th>\n",
       "      <td>02-01-2020</td>\n",
       "      <td>2020</td>\n",
       "      <td>28.299999</td>\n",
       "      <td>28.713333</td>\n",
       "      <td>28.114000</td>\n",
       "      <td>28.684000</td>\n",
       "      <td>142981500</td>\n",
       "      <td>28.684000</td>\n",
       "    </tr>\n",
       "    <tr>\n",
       "      <th>1</th>\n",
       "      <td>03-01-2020</td>\n",
       "      <td>2020</td>\n",
       "      <td>29.366667</td>\n",
       "      <td>30.266666</td>\n",
       "      <td>29.128000</td>\n",
       "      <td>29.534000</td>\n",
       "      <td>266677500</td>\n",
       "      <td>29.534000</td>\n",
       "    </tr>\n",
       "    <tr>\n",
       "      <th>2</th>\n",
       "      <td>06-01-2020</td>\n",
       "      <td>2020</td>\n",
       "      <td>29.364668</td>\n",
       "      <td>30.104000</td>\n",
       "      <td>29.333332</td>\n",
       "      <td>30.102667</td>\n",
       "      <td>151995000</td>\n",
       "      <td>30.102667</td>\n",
       "    </tr>\n",
       "    <tr>\n",
       "      <th>3</th>\n",
       "      <td>07-01-2020</td>\n",
       "      <td>2020</td>\n",
       "      <td>30.760000</td>\n",
       "      <td>31.441999</td>\n",
       "      <td>30.224001</td>\n",
       "      <td>31.270666</td>\n",
       "      <td>268231500</td>\n",
       "      <td>31.270666</td>\n",
       "    </tr>\n",
       "    <tr>\n",
       "      <th>4</th>\n",
       "      <td>08-01-2020</td>\n",
       "      <td>2020</td>\n",
       "      <td>31.580000</td>\n",
       "      <td>33.232666</td>\n",
       "      <td>31.215334</td>\n",
       "      <td>32.809334</td>\n",
       "      <td>467164500</td>\n",
       "      <td>32.809334</td>\n",
       "    </tr>\n",
       "  </tbody>\n",
       "</table>\n",
       "</div>"
      ],
      "text/plain": [
       "         Date  Year       Open       High        Low      Close     Volume   \n",
       "0  02-01-2020  2020  28.299999  28.713333  28.114000  28.684000  142981500  \\\n",
       "1  03-01-2020  2020  29.366667  30.266666  29.128000  29.534000  266677500   \n",
       "2  06-01-2020  2020  29.364668  30.104000  29.333332  30.102667  151995000   \n",
       "3  07-01-2020  2020  30.760000  31.441999  30.224001  31.270666  268231500   \n",
       "4  08-01-2020  2020  31.580000  33.232666  31.215334  32.809334  467164500   \n",
       "\n",
       "   Adj Close  \n",
       "0  28.684000  \n",
       "1  29.534000  \n",
       "2  30.102667  \n",
       "3  31.270666  \n",
       "4  32.809334  "
      ]
     },
     "execution_count": 26,
     "metadata": {},
     "output_type": "execute_result"
    }
   ],
   "source": [
    "df.head()"
   ]
  },
  {
   "cell_type": "code",
   "execution_count": 27,
   "metadata": {},
   "outputs": [
    {
     "name": "stdout",
     "output_type": "stream",
     "text": [
      "<class 'pandas.core.frame.DataFrame'>\n",
      "RangeIndex: 996 entries, 0 to 995\n",
      "Data columns (total 8 columns):\n",
      " #   Column     Non-Null Count  Dtype  \n",
      "---  ------     --------------  -----  \n",
      " 0   Date       996 non-null    object \n",
      " 1   Year       996 non-null    int64  \n",
      " 2   Open       996 non-null    float64\n",
      " 3   High       996 non-null    float64\n",
      " 4   Low        996 non-null    float64\n",
      " 5   Close      996 non-null    float64\n",
      " 6   Volume     996 non-null    int64  \n",
      " 7   Adj Close  996 non-null    float64\n",
      "dtypes: float64(5), int64(2), object(1)\n",
      "memory usage: 62.4+ KB\n"
     ]
    }
   ],
   "source": [
    "df.info()"
   ]
  },
  {
   "cell_type": "markdown",
   "metadata": {},
   "source": [
    "Preparing the data for ARIMA model"
   ]
  },
  {
   "cell_type": "code",
   "execution_count": 11,
   "metadata": {},
   "outputs": [],
   "source": [
    "df = df['Close'] # Select the closing price column\n",
    "df = df.values # Convert the data to a NumPy array"
   ]
  },
  {
   "cell_type": "markdown",
   "metadata": {},
   "source": [
    "Fit the ARIMA model to the data"
   ]
  },
  {
   "cell_type": "code",
   "execution_count": 14,
   "metadata": {},
   "outputs": [],
   "source": [
    "import statsmodels.api as sm\n",
    "model = sm.tsa.arima.ARIMA(df, order=(5,1,0))\n",
    "model_fit = model.fit()"
   ]
  },
  {
   "cell_type": "markdown",
   "metadata": {},
   "source": [
    "Predicting using ARIMA model"
   ]
  },
  {
   "cell_type": "code",
   "execution_count": 15,
   "metadata": {},
   "outputs": [],
   "source": [
    "predictions = model_fit.predict(start=len(df), end=len(df)+100)"
   ]
  },
  {
   "cell_type": "markdown",
   "metadata": {},
   "source": [
    "Plotting the actual data and the predictions"
   ]
  },
  {
   "cell_type": "code",
   "execution_count": 17,
   "metadata": {},
   "outputs": [
    {
     "data": {
      "image/png": "[encoded data removed]",
      "text/plain": [
       "<Figure size 640x480 with 1 Axes>"
      ]
     },
     "metadata": {},
     "output_type": "display_data"
    }
   ],
   "source": [
    "plt.plot(df, label='Actual Data')\n",
    "plt.plot(predictions, label='Predictions')\n",
    "plt.legend()\n",
    "plt.show()"
   ]
  },
  {
   "cell_type": "markdown",
   "metadata": {},
   "source": [
    "Summary \n",
    "\n",
    "SO this is how we can use ARIMA model for the task of Stock Price Prediction\n",
    "\n",
    "ARIMA (AutoRegressive Integrated Moving Average): This is a popular model for time series forecasting. It combines autoregression, differencing, and moving average components to model the data.\n",
    "\n",
    "Using ARIMA is one of hte best machine Learning approaches for time series forecasting."
   ]
  }
 ],
 "metadata": {
  "kernelspec": {
   "display_name": "Python 3",
   "language": "python",
   "name": "python3"
  },
  "language_info": {
   "codemirror_mode": {
    "name": "ipython",
    "version": 3
   },
   "file_extension": ".py",
   "mimetype": "text/x-python",
   "name": "python",
   "nbconvert_exporter": "python",
   "pygments_lexer": "ipython3",
   "version": "3.11.1"
  }
 },
 "nbformat": 4,
 "nbformat_minor": 2
}
